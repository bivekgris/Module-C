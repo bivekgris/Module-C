{
 "cells": [
  {
   "cell_type": "code",
   "execution_count": 4,
   "id": "9214293a",
   "metadata": {},
   "outputs": [
    {
     "name": "stdout",
     "output_type": "stream",
     "text": [
      "['name', 'age', 'postcode']\n"
     ]
    }
   ],
   "source": [
    "import csv\n",
    "with open('customers.csv','r') as f:\n",
    "    reader=csv.reader(f)\n",
    "    count=0\n",
    "    for num in reader:\n",
    "        if (count==0):\n",
    "            header=num\n",
    "            break\n",
    "        count+=1\n",
    "    print(header)"
   ]
  },
  {
   "cell_type": "code",
   "execution_count": 6,
   "id": "5b8558be",
   "metadata": {},
   "outputs": [
    {
     "ename": "ValueError",
     "evalue": "'Indentifier' is not in list",
     "output_type": "error",
     "traceback": [
      "\u001b[0;31m---------------------------------------------------------------------------\u001b[0m",
      "\u001b[0;31mValueError\u001b[0m                                Traceback (most recent call last)",
      "Input \u001b[0;32mIn [6]\u001b[0m, in \u001b[0;36m<cell line: 2>\u001b[0;34m()\u001b[0m\n\u001b[1;32m      5\u001b[0m \u001b[38;5;28;01mfor\u001b[39;00m row \u001b[38;5;129;01min\u001b[39;00m reader:\n\u001b[1;32m      6\u001b[0m     \u001b[38;5;28;01mif\u001b[39;00m i\u001b[38;5;241m==\u001b[39m\u001b[38;5;241m0\u001b[39m:\n\u001b[0;32m----> 7\u001b[0m         row_val\u001b[38;5;241m=\u001b[39m\u001b[43mrow\u001b[49m\u001b[38;5;241;43m.\u001b[39;49m\u001b[43mindex\u001b[49m\u001b[43m(\u001b[49m\u001b[38;5;124;43m'\u001b[39;49m\u001b[38;5;124;43mIndentifier\u001b[39;49m\u001b[38;5;124;43m'\u001b[39;49m\u001b[43m)\u001b[49m\n\u001b[1;32m      8\u001b[0m         i\u001b[38;5;241m+\u001b[39m\u001b[38;5;241m=\u001b[39m\u001b[38;5;241m1\u001b[39m\n\u001b[1;32m      9\u001b[0m     row\u001b[38;5;241m.\u001b[39mpop(row_val)\n",
      "\u001b[0;31mValueError\u001b[0m: 'Indentifier' is not in list"
     ]
    }
   ],
   "source": [
    "no_id_data=[]\n",
    "with open('customers.csv','r') as f:\n",
    "    reader=csv.reader(f)\n",
    "    i=0\n",
    "    for row in reader:\n",
    "        if i==0:\n",
    "            row_val=row.index('Indentifier')\n",
    "            i+=1\n",
    "        row.pop(row_val)\n",
    "        no_id_data.append(row)"
   ]
  },
  {
   "cell_type": "code",
   "execution_count": null,
   "id": "b5126854",
   "metadata": {},
   "outputs": [],
   "source": []
  }
 ],
 "metadata": {
  "kernelspec": {
   "display_name": "Python 3 (ipykernel)",
   "language": "python",
   "name": "python3"
  },
  "language_info": {
   "codemirror_mode": {
    "name": "ipython",
    "version": 3
   },
   "file_extension": ".py",
   "mimetype": "text/x-python",
   "name": "python",
   "nbconvert_exporter": "python",
   "pygments_lexer": "ipython3",
   "version": "3.9.12"
  }
 },
 "nbformat": 4,
 "nbformat_minor": 5
}
