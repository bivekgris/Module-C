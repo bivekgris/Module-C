{
 "cells": [
  {
   "cell_type": "code",
   "execution_count": 2,
   "id": "88deeda6",
   "metadata": {},
   "outputs": [
    {
     "ename": "AttributeError",
     "evalue": "module 'numpy' has no attribute 'array'",
     "output_type": "error",
     "traceback": [
      "\u001b[0;31m---------------------------------------------------------------------------\u001b[0m",
      "\u001b[0;31mAttributeError\u001b[0m                            Traceback (most recent call last)",
      "Input \u001b[0;32mIn [2]\u001b[0m, in \u001b[0;36m<cell line: 4>\u001b[0;34m()\u001b[0m\n\u001b[1;32m      1\u001b[0m \u001b[38;5;28;01mimport\u001b[39;00m \u001b[38;5;21;01mnumpy\u001b[39;00m \u001b[38;5;28;01mas\u001b[39;00m \u001b[38;5;21;01mnp\u001b[39;00m\n\u001b[1;32m      3\u001b[0m \u001b[38;5;66;03m#The shape vs size of an array\u001b[39;00m\n\u001b[0;32m----> 4\u001b[0m a2d \u001b[38;5;241m=\u001b[39m \u001b[43mnp\u001b[49m\u001b[38;5;241;43m.\u001b[39;49m\u001b[43marray\u001b[49m([[\u001b[38;5;241m1\u001b[39m,\u001b[38;5;241m2\u001b[39m,\u001b[38;5;241m3\u001b[39m,\u001b[38;5;241m4\u001b[39m], [\u001b[38;5;241m5\u001b[39m,\u001b[38;5;241m6\u001b[39m,\u001b[38;5;241m7\u001b[39m,\u001b[38;5;241m8\u001b[39m], [\u001b[38;5;241m9\u001b[39m,\u001b[38;5;241m10\u001b[39m,\u001b[38;5;241m11\u001b[39m,\u001b[38;5;241m12\u001b[39m]])\n\u001b[1;32m      6\u001b[0m \u001b[38;5;28mprint\u001b[39m(\u001b[38;5;124m'\u001b[39m\u001b[38;5;124mThe total number of elements in the array is:\u001b[39m\u001b[38;5;124m'\u001b[39m,a2d\u001b[38;5;241m.\u001b[39msize)\n\u001b[1;32m      8\u001b[0m rows, columns \u001b[38;5;241m=\u001b[39m a2d\u001b[38;5;241m.\u001b[39mshape\n",
      "\u001b[0;31mAttributeError\u001b[0m: module 'numpy' has no attribute 'array'"
     ]
    }
   ],
   "source": [
    "import numpy as np\n",
    "\n",
    "#The shape vs size of an array\n",
    "a2d = np.array([[1,2,3,4], [5,6,7,8], [9,10,11,12]])\n",
    "\n",
    "print('The total number of elements in the array is:',a2d.size)\n",
    "\n",
    "rows, columns = a2d.shape\n",
    "print('The number of rows is:',rows,'the number of columns is:',columns)\n"
   ]
  },
  {
   "cell_type": "code",
   "execution_count": 3,
   "id": "1e699e7d",
   "metadata": {},
   "outputs": [
    {
     "ename": "AttributeError",
     "evalue": "module 'numpy' has no attribute 'arange'",
     "output_type": "error",
     "traceback": [
      "\u001b[0;31m---------------------------------------------------------------------------\u001b[0m",
      "\u001b[0;31mAttributeError\u001b[0m                            Traceback (most recent call last)",
      "Input \u001b[0;32mIn [3]\u001b[0m, in \u001b[0;36m<cell line: 5>\u001b[0;34m()\u001b[0m\n\u001b[1;32m      1\u001b[0m \u001b[38;5;28;01mimport\u001b[39;00m \u001b[38;5;21;01mnumpy\u001b[39;00m \u001b[38;5;28;01mas\u001b[39;00m \u001b[38;5;21;01mnp\u001b[39;00m\n\u001b[1;32m      3\u001b[0m \u001b[38;5;66;03m# Addition\u001b[39;00m\n\u001b[0;32m----> 5\u001b[0m a1 \u001b[38;5;241m=\u001b[39m \u001b[43mnp\u001b[49m\u001b[38;5;241;43m.\u001b[39;49m\u001b[43marange\u001b[49m(\u001b[38;5;241m9\u001b[39m)\u001b[38;5;241m.\u001b[39mreshape(\u001b[38;5;241m3\u001b[39m,\u001b[38;5;241m3\u001b[39m)\n\u001b[1;32m      6\u001b[0m a2 \u001b[38;5;241m=\u001b[39m np\u001b[38;5;241m.\u001b[39marange(\u001b[38;5;241m3\u001b[39m)\n\u001b[1;32m      7\u001b[0m \u001b[38;5;28mprint\u001b[39m(\u001b[38;5;124m'\u001b[39m\u001b[38;5;124ma1=\u001b[39m\u001b[38;5;130;01m\\n\u001b[39;00m\u001b[38;5;124m'\u001b[39m, a1)\n",
      "\u001b[0;31mAttributeError\u001b[0m: module 'numpy' has no attribute 'arange'"
     ]
    }
   ],
   "source": [
    "import numpy as np\n",
    "\n",
    "# Addition\n",
    "\n",
    "a1 = np.arange(9).reshape(3,3)\n",
    "a2 = np.arange(3)\n",
    "print('a1=\\n', a1)\n",
    "print('a2=\\n', a2)\n",
    "\n",
    "print('Addition a1 + 5 =\\n', a1+5)\n",
    "print ('np.add a1 + 5 =\\n', np.add(a1,5))\n",
    "\n",
    "# Addition two arrays \n",
    "print ('np.add a1 + a2 =\\n', np.add(a1,a2))\n"
   ]
  },
  {
   "cell_type": "code",
   "execution_count": 4,
   "id": "f1e9638c",
   "metadata": {},
   "outputs": [
    {
     "ename": "AttributeError",
     "evalue": "module 'numpy' has no attribute 'random'",
     "output_type": "error",
     "traceback": [
      "\u001b[0;31m---------------------------------------------------------------------------\u001b[0m",
      "\u001b[0;31mAttributeError\u001b[0m                            Traceback (most recent call last)",
      "Input \u001b[0;32mIn [4]\u001b[0m, in \u001b[0;36m<cell line: 5>\u001b[0;34m()\u001b[0m\n\u001b[1;32m      1\u001b[0m \u001b[38;5;28;01mimport\u001b[39;00m \u001b[38;5;21;01mnumpy\u001b[39;00m \u001b[38;5;28;01mas\u001b[39;00m \u001b[38;5;21;01mnp\u001b[39;00m\n\u001b[1;32m      3\u001b[0m \u001b[38;5;66;03m# Example: Find the minimum and maximum number in an array \u001b[39;00m\n\u001b[0;32m----> 5\u001b[0m a1\u001b[38;5;241m=\u001b[39m\u001b[43mnp\u001b[49m\u001b[38;5;241;43m.\u001b[39;49m\u001b[43mrandom\u001b[49m\u001b[38;5;241m.\u001b[39muniform(\u001b[38;5;241m-\u001b[39m\u001b[38;5;241m1000\u001b[39m, \u001b[38;5;241m1000\u001b[39m, size\u001b[38;5;241m=\u001b[39m(\u001b[38;5;241m3\u001b[39m, \u001b[38;5;241m4\u001b[39m)) \u001b[38;5;66;03m# generate a random number\u001b[39;00m\n\u001b[1;32m      6\u001b[0m \u001b[38;5;28mprint\u001b[39m(\u001b[38;5;124m\"\u001b[39m\u001b[38;5;124ma1= \u001b[39m\u001b[38;5;130;01m\\n\u001b[39;00m\u001b[38;5;124m\"\u001b[39m,a1)\n\u001b[1;32m      7\u001b[0m \u001b[38;5;28mprint\u001b[39m()\n",
      "\u001b[0;31mAttributeError\u001b[0m: module 'numpy' has no attribute 'random'"
     ]
    }
   ],
   "source": [
    "import numpy as np\n",
    "\n",
    "# Example: Find the minimum and maximum number in an array \n",
    "\n",
    "a1=np.random.uniform(-1000, 1000, size=(3, 4)) # generate a random number\n",
    "print(\"a1= \\n\",a1)\n",
    "print()\n",
    "\n",
    "# If you don't specify in the function max or min if you want the max/min \n",
    "# of each row or column it will find the max or min in the entire array\n",
    "\n",
    "print(\"Minimum number in all a1: \", np.min(a1))\n",
    "print(\"Maximum number in all a1: \", np.max(a1))\n",
    "print()\n",
    "\n",
    "# looking per column axis=0 \n",
    "\n",
    "print(\"Minimum number per column in a1: \", np.min(a1, axis=0))\n",
    "print(\"Maximum number per column in a1: \", np.max(a1, axis=0))\n",
    "print()\n",
    "\n",
    "# looking per row axis=1\n",
    "\n",
    "print(\"Minimum number per row in a1: \", np.min(a1, axis=1))\n",
    "print(\"Maximum number per row in a1: \", np.max(a1, axis=1))"
   ]
  },
  {
   "cell_type": "code",
   "execution_count": null,
   "id": "b44a5ff0",
   "metadata": {},
   "outputs": [],
   "source": []
  },
  {
   "cell_type": "code",
   "execution_count": null,
   "id": "d50e5db7",
   "metadata": {},
   "outputs": [],
   "source": []
  },
  {
   "cell_type": "code",
   "execution_count": null,
   "id": "215abf99",
   "metadata": {},
   "outputs": [],
   "source": []
  },
  {
   "cell_type": "code",
   "execution_count": null,
   "id": "7eee7889",
   "metadata": {},
   "outputs": [],
   "source": []
  },
  {
   "cell_type": "code",
   "execution_count": null,
   "id": "dbc24062",
   "metadata": {},
   "outputs": [],
   "source": []
  },
  {
   "cell_type": "code",
   "execution_count": null,
   "id": "1c1486ba",
   "metadata": {},
   "outputs": [],
   "source": []
  },
  {
   "cell_type": "code",
   "execution_count": null,
   "id": "067a316f",
   "metadata": {},
   "outputs": [],
   "source": []
  }
 ],
 "metadata": {
  "kernelspec": {
   "display_name": "Python 3 (ipykernel)",
   "language": "python",
   "name": "python3"
  },
  "language_info": {
   "codemirror_mode": {
    "name": "ipython",
    "version": 3
   },
   "file_extension": ".py",
   "mimetype": "text/x-python",
   "name": "python",
   "nbconvert_exporter": "python",
   "pygments_lexer": "ipython3",
   "version": "3.9.12"
  }
 },
 "nbformat": 4,
 "nbformat_minor": 5
}
