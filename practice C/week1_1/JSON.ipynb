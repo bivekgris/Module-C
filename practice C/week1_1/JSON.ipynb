{
 "cells": [
  {
   "cell_type": "code",
   "execution_count": 6,
   "id": "91599d9f",
   "metadata": {},
   "outputs": [
    {
     "name": "stdout",
     "output_type": "stream",
     "text": [
      "{'data': [{'name': 'John', 'age': 52, 'postcode': 5002}, {'name': 'Ye', 'age': 18, 'postcode': 3005}, {'name': 'Siobhan', 'age': 34, 'postcode': 2356}]}\n",
      "\n",
      "[{'name': 'John', 'age': 52, 'postcode': 5002}, {'name': 'Ye', 'age': 18, 'postcode': 3005}, {'name': 'Siobhan', 'age': 34, 'postcode': 2356}]\n",
      "\n",
      "{'name': 'John', 'age': 52, 'postcode': 5002}\n",
      "{'name': 'Ye', 'age': 18, 'postcode': 3005}\n",
      "{'name': 'Siobhan', 'age': 34, 'postcode': 2356}\n"
     ]
    }
   ],
   "source": [
    "import json\n",
    "\n",
    "jstr='''{\"data\": [ {\"name\":\"John\",\"age\":52,\"postcode\":5002},\n",
    "                    {\"name\":\"Ye\",\"age\":18,\"postcode\":3005},\n",
    "                    {\"name\":\"Siobhan\",\"age\":34,\"postcode\":2356}\n",
    "                ]\n",
    "        }'''\n",
    "\n",
    "#load raw data into dictionary\n",
    "jdata=json.loads(jstr)\n",
    "print(jdata)\n",
    "\n",
    "print()\n",
    "data=jdata[\"data\"]\n",
    "print(data)\n",
    "\n",
    "print()\n",
    "\n",
    "for i in range(len(data)):\n",
    "    print(data[i])"
   ]
  },
  {
   "cell_type": "markdown",
   "id": "d3d46c38",
   "metadata": {},
   "source": [
    "## Reading\n"
   ]
  },
  {
   "cell_type": "code",
   "execution_count": 9,
   "id": "54f3bbb6",
   "metadata": {},
   "outputs": [
    {
     "name": "stdout",
     "output_type": "stream",
     "text": [
      "{'name': 'John', 'age': 52, 'postcode': 5002}\n",
      "{'name': 'Ye', 'age': 18, 'postcode': 3005}\n",
      "{'name': 'Siobhan', 'age': 34, 'postcode': 2356}\n"
     ]
    }
   ],
   "source": [
    "with open('customers.json', encoding='utf-8-sig') as file:\n",
    "    jstr=file.read()\n",
    "    jdata=json.loads(jstr)\n",
    "\n",
    "data=jdata['data']\n",
    "for i in range(len(data)):\n",
    "    print(data[i])\n",
    "    \n"
   ]
  },
  {
   "cell_type": "markdown",
   "id": "d3ef5f1d",
   "metadata": {},
   "source": [
    "## Writing /Serialisation"
   ]
  },
  {
   "cell_type": "code",
   "execution_count": 15,
   "id": "a3187125",
   "metadata": {},
   "outputs": [
    {
     "name": "stdout",
     "output_type": "stream",
     "text": [
      "[{'name': 'John', 'age': 52, 'postcode': 5002}, {'name': 'Ye', 'age': 18, 'postcode': 3005}, {'name': 'Siobhan', 'age': 34, 'postcode': 2356}]\n",
      "John\n",
      "Ye\n",
      "Siobhan\n"
     ]
    }
   ],
   "source": [
    "data1=[{'name':'John', 'age':52, 'postcode':5002},\n",
    "        {'name':'Ye','age':18, 'postcode':3005},\n",
    "        {'name':'Siobhan', 'age':34, 'postcode':2356}\n",
    "       ]\n",
    "\n",
    "with open('newFile.json','w') as file:\n",
    "    json.dump(data1,file)\n",
    "    \n",
    "with open('newFile.json', encoding='utf-8-sig') as f:\n",
    "    jstr=f.read()\n",
    "    jdata=json.loads(jstr)\n",
    "    print(jdata)\n",
    "\n",
    "for row in range(len(jdata)):\n",
    "    print(jdata[row].get('name'))"
   ]
  },
  {
   "cell_type": "markdown",
   "id": "c2022628",
   "metadata": {},
   "source": [
    "## Practice"
   ]
  },
  {
   "cell_type": "code",
   "execution_count": null,
   "id": "659c7da4",
   "metadata": {},
   "outputs": [],
   "source": []
  }
 ],
 "metadata": {
  "kernelspec": {
   "display_name": "Python 3 (ipykernel)",
   "language": "python",
   "name": "python3"
  },
  "language_info": {
   "codemirror_mode": {
    "name": "ipython",
    "version": 3
   },
   "file_extension": ".py",
   "mimetype": "text/x-python",
   "name": "python",
   "nbconvert_exporter": "python",
   "pygments_lexer": "ipython3",
   "version": "3.9.12"
  }
 },
 "nbformat": 4,
 "nbformat_minor": 5
}
