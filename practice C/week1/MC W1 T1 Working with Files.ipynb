{
 "cells": [
  {
   "cell_type": "code",
   "execution_count": null,
   "metadata": {},
   "outputs": [],
   "source": [
    "import pandas as pd\n",
    "import numpy as np\n",
    "import otter\n",
    "grader = otter.Notebook()"
   ]
  },
  {
   "cell_type": "markdown",
   "metadata": {
    "tags": []
   },
   "source": [
    "# <mark style=\"background: #801010; color: #ffffff;\" >C</mark> Week 1: Working with Files\n",
    "\n",
    "------\n",
    "\n",
    "### Instructions:\n",
    "\n",
    "- Complete 50 points worth of questions to pass the assessment\n",
    "  - You can attempt any number of questions and in any order provided you pass at least 50 points.\n",
    "- These questions should be attempted directly in this notebook.\n",
    "- Be sure to check your work before submitting.\n",
    "  - Do not remove any provided markings from the answer spaces.\n",
    "  - Do not make any changes to this notebook outside of the answer spaces provided.\n",
    "  \n",
    "#### Submitting\n",
    "\n",
    "- Reset your outputs before submitting\n",
    "  - Select the `Kernel` menu, then either `Restart & Run Clear Output` or `Restart & Run All`\n",
    "  - Don't forget to save your notebook after this step\n",
    "- Submit your .ipynb file to Gradescope using Git & GitHub\n",
    "- You can submit as many times as needed\n",
    "- When reviewing results, ignore any results listed under \"Public Tests\"  \n",
    "  (There are no \"Public Tests\" in this assignment)\n",
    "\n",
    "For more information, see the assessment page."
   ]
  },
  {
   "cell_type": "markdown",
   "metadata": {},
   "source": [
    "#### Question 01 &nbsp;&nbsp;&nbsp;&nbsp;&nbsp;&nbsp;(1 Point)\n",
    "\n",
    "Create a Python program to read the file `q1.txt`.\n",
    "\n",
    "Create a string variable `output1` and read the contents of the file to it."
   ]
  },
  {
   "cell_type": "code",
   "execution_count": null,
   "metadata": {
    "tags": []
   },
   "outputs": [],
   "source": [
    "# Write your solution here\n",
    "a = open (\"q1.txt\", \"r\")\n",
    "output1 = a.read()\n",
    "a.close()"
   ]
  },
  {
   "cell_type": "markdown",
   "metadata": {},
   "source": [
    "#### Question 02 &nbsp;&nbsp;&nbsp;&nbsp;&nbsp;&nbsp;(1 Point)\n",
    "\n",
    "Create a Python program to read the first line of the file `q2.txt`.\n",
    "\n",
    "Create a string variable `output2` and assign the solution to it."
   ]
  },
  {
   "cell_type": "code",
   "execution_count": null,
   "metadata": {
    "tags": []
   },
   "outputs": [],
   "source": [
    "# Write your solution here\n",
    "a = open (\"q2.txt\", \"r\")\n",
    "output2 = a.readline()\n",
    "a.close()"
   ]
  },
  {
   "cell_type": "markdown",
   "metadata": {},
   "source": [
    "#### Question 03 &nbsp;&nbsp;&nbsp;&nbsp;&nbsp;&nbsp;(1 Point)\n",
    "\n",
    "Create a Python program to read the first 8 characters of the file `q3.txt`.\n",
    "\n",
    "Create a string variable `output3` and assign the solution to it."
   ]
  },
  {
   "cell_type": "code",
   "execution_count": null,
   "metadata": {
    "tags": []
   },
   "outputs": [],
   "source": [
    "# Write your solution here\n",
    "a = open (\"q3.txt\", \"r\")\n",
    "output3 = a.read(8)\n",
    "a.close()"
   ]
  },
  {
   "cell_type": "markdown",
   "metadata": {},
   "source": [
    "#### Question 04 &nbsp;&nbsp;&nbsp;&nbsp;&nbsp;&nbsp;(1 Point)\n",
    "\n",
    "Create a Python program to create a new empty file named `q4.txt`."
   ]
  },
  {
   "cell_type": "code",
   "execution_count": null,
   "metadata": {
    "tags": []
   },
   "outputs": [],
   "source": [
    "# Write your solution here\n",
    "a = open (\"q4.txt\", \"w\")\n",
    "a.close()"
   ]
  },
  {
   "cell_type": "markdown",
   "metadata": {},
   "source": [
    "#### Question 05 &nbsp;&nbsp;&nbsp;&nbsp;&nbsp;&nbsp;(1 Point)\n",
    "\n",
    "Create a Python program to create a new file named `q5.txt`. Write `hello world` to that file."
   ]
  },
  {
   "cell_type": "code",
   "execution_count": null,
   "metadata": {
    "tags": []
   },
   "outputs": [],
   "source": [
    "# Write your solution here\n",
    "a = open (\"q5.txt\", \"w\")\n",
    "a.write(\"hello world\")\n",
    "a.close()"
   ]
  },
  {
   "cell_type": "markdown",
   "metadata": {},
   "source": [
    "#### Question 06 &nbsp;&nbsp;&nbsp;&nbsp;&nbsp;&nbsp;(3 Points)\n",
    "\n",
    "Create a Python program to create a new file named file `q6.txt`. Write `hello` to the first line and `world` to the second."
   ]
  },
  {
   "cell_type": "code",
   "execution_count": null,
   "metadata": {
    "tags": []
   },
   "outputs": [],
   "source": [
    "with open (\"q6.txt\", \"w\") as f:\n",
    "    f.write(\"hello\\nworld\")\n",
    "    \n"
   ]
  },
  {
   "cell_type": "markdown",
   "metadata": {},
   "source": [
    "#### Question 07 &nbsp;&nbsp;&nbsp;&nbsp;&nbsp;&nbsp;(3 Points)\n",
    "\n",
    "Create a Python program to read the first 10 characters on the third line of the file q7.txt.\n",
    "\n",
    "Create a string variable `output7` and assign the solution to it."
   ]
  },
  {
   "cell_type": "code",
   "execution_count": null,
   "metadata": {
    "tags": []
   },
   "outputs": [],
   "source": [
    "# Write your solution here\n",
    "with open (\"q7.txt\", \"r\") as f:\n",
    "    f.seek(0)\n",
    "    for i in range(1,4):\n",
    "        output7 = f.readline(10)\n",
    "        i += 1\n",
    "    print (output7) "
   ]
  },
  {
   "cell_type": "markdown",
   "metadata": {},
   "source": [
    "#### Question 08 &nbsp;&nbsp;&nbsp;&nbsp;&nbsp;&nbsp;(3 Points)\n",
    "\n",
    "Create a Python program to read the first 4 characters on the third line of the file `q8.txt`.\n",
    "\n",
    "Create a string variable `output8` and assign the solution to it."
   ]
  },
  {
   "cell_type": "code",
   "execution_count": null,
   "metadata": {
    "tags": []
   },
   "outputs": [],
   "source": [
    "# Write your solution here\n",
    "with open (\"q8.txt\", \"r\") as f:\n",
    "    f.seek(0)\n",
    "    for i in range(1,4):\n",
    "        output8 = f.readline(4)\n",
    "        i += 1\n",
    "    print (output8) "
   ]
  },
  {
   "cell_type": "markdown",
   "metadata": {},
   "source": [
    "#### Question 09 &nbsp;&nbsp;&nbsp;&nbsp;&nbsp;&nbsp;(3 Points)\n",
    "\n",
    "Create a Python program to create a new empty file named `q9.txt` if that file does not already exist. \n",
    "\n",
    "Create a variable `output9`. If the file exists, your program should set `output9` to `True` otherwise set it `False`."
   ]
  },
  {
   "cell_type": "code",
   "execution_count": null,
   "metadata": {
    "tags": []
   },
   "outputs": [],
   "source": [
    "try:\n",
    "    with open (\"q9.txt\", \"x\") as f:\n",
    "        output9 = False\n",
    "    \n",
    "except:\n",
    "        output9 = True\n",
    "        \n",
    "        \n",
    "print (output9)"
   ]
  },
  {
   "cell_type": "markdown",
   "metadata": {},
   "source": [
    "#### Question 10 &nbsp;&nbsp;&nbsp;&nbsp;&nbsp;&nbsp;(3 Points)\n",
    "\n",
    "Create a Python program to create a new file named `q10.txt` and write the text `Hello!` to it if that file does not already exist. \n",
    "\n",
    "Create a variable `output10`. If the file exists, your program should `output10` to `True` otherwise set it `False`."
   ]
  },
  {
   "cell_type": "code",
   "execution_count": null,
   "metadata": {
    "tags": []
   },
   "outputs": [],
   "source": [
    "# Write your solution here\n",
    "try:\n",
    "    with open (\"q10.txt\", \"x+\") as f:\n",
    "        f.write(\"Hello!\")\n",
    "        \n",
    "        output10 = False\n",
    "    \n",
    "except:\n",
    "        output10 = True\n",
    "        \n",
    "        \n",
    "print (output10)"
   ]
  },
  {
   "cell_type": "markdown",
   "metadata": {},
   "source": [
    "#### Question 11 &nbsp;&nbsp;&nbsp;&nbsp;&nbsp;&nbsp;(4 Points)\n",
    "\n",
    "Create a Python program to append `!` to the end the file `q11.txt`.\n",
    "\n",
    "---\n",
    "<details>\n",
    "  <summary><span style=\"color:blue\">Hints for testing</span></summary>\n",
    "   Test your code against your own `q12.txt` file containing `123456` to ensure you are getting the behaviour that you want before submission. `!` should appear at the end of the existing last line of the file.\n",
    "</details>"
   ]
  },
  {
   "cell_type": "code",
   "execution_count": null,
   "metadata": {
    "tags": []
   },
   "outputs": [],
   "source": [
    "# Write your solution here\n",
    "with open (\"q11.txt\", \"a\") as f:\n",
    "    f.write(\"!\")"
   ]
  },
  {
   "cell_type": "markdown",
   "metadata": {},
   "source": [
    "#### Question 12 &nbsp;&nbsp;&nbsp;&nbsp;&nbsp;&nbsp;(4 Points)\n",
    "\n",
    "Create a Python program to append `Goodnight world` on a new line at the end the file `q12.txt`.\n",
    "\n",
    "---\n",
    "<details>\n",
    "  <summary><span style=\"color:blue\">Hints for testing</span></summary>\n",
    "   Test your code against your own `q12.txt` file containing `123456` to ensure you are getting the behaviour that you want before submission. `Goodnight world` should appear on it's own new line at the end of the file.\n",
    "</details>"
   ]
  },
  {
   "cell_type": "code",
   "execution_count": null,
   "metadata": {
    "tags": []
   },
   "outputs": [],
   "source": [
    "# Write your solution here\n",
    "with open (\"q12.txt\", \"a+\") as f:\n",
    "    f.write(\"\\nGoodnight world\")\n",
    "    f.seek(0)\n",
    "    print (f.read())"
   ]
  },
  {
   "cell_type": "markdown",
   "metadata": {},
   "source": [
    "#### Question 13 &nbsp;&nbsp;&nbsp;&nbsp;&nbsp;&nbsp;(4 Points)\n",
    "\n",
    "Create a Python program to append `789` to end the file `q13.txt`, then read that entire file.\n",
    "\n",
    "Create a string variable `output13` and assign the solution to it.\n",
    "\n",
    "---\n",
    "<details>\n",
    "  <summary><span style=\"color:blue\">Hints for testing</span></summary>\n",
    "   Test your code against your own text file containing `123456` to ensure you are getting the behaviour that you want before submission.\n",
    "</details>"
   ]
  },
  {
   "cell_type": "code",
   "execution_count": null,
   "metadata": {
    "tags": []
   },
   "outputs": [],
   "source": [
    "# Write your solution here\n",
    "with open (\"q13.txt\", \"a+\") as f:\n",
    "    f.write(\"789\")\n",
    "    f.seek(0)\n",
    "    output13 = f.read()"
   ]
  },
  {
   "cell_type": "markdown",
   "metadata": {},
   "source": [
    "#### Question 14 &nbsp;&nbsp;&nbsp;&nbsp;&nbsp;&nbsp;(4 Points)\n",
    "\n",
    "Create a Python program to read the file `q14.txt`, and store its contents in a string variable `output14`.\n",
    "\n",
    "Then append `789` to that file.\n",
    "\n",
    "---\n",
    "<details>\n",
    "  <summary><span style=\"color:blue\">Hints for testing</span></summary>\n",
    "   Test your code against your own text file containing `123456` to ensure you are getting the behaviour that you want before submission.\n",
    "</details>"
   ]
  },
  {
   "cell_type": "code",
   "execution_count": null,
   "metadata": {
    "tags": []
   },
   "outputs": [],
   "source": [
    "# Write your solution here\n",
    "with open (\"q14.txt\", \"r\") as f:\n",
    "    output14 = f.read()\n",
    "    \n",
    "with open (\"q14.txt\", \"a\") as f:\n",
    "    f.write(\"789\")"
   ]
  },
  {
   "cell_type": "markdown",
   "metadata": {},
   "source": [
    "#### Question 15 &nbsp;&nbsp;&nbsp;&nbsp;&nbsp;&nbsp;(4 Points)\n",
    "\n",
    "Create a Python program to read the second line of the file `q15_in.txt`, then write that line to `q15_out.txt`.\n",
    "\n",
    "---\n",
    "<details>\n",
    "  <summary><span style=\"color:blue\">Hints for testing</span></summary>\n",
    "   Test your code against your own text file containing \n",
    "    <pre>\n",
    "    123456\n",
    "    789012\n",
    "    345678\n",
    "    901234\n",
    "    </pre> to ensure you are getting the behaviour that you want before submission.\n",
    "</details>"
   ]
  },
  {
   "cell_type": "code",
   "execution_count": null,
   "metadata": {
    "tags": []
   },
   "outputs": [],
   "source": [
    "# Write your solution here\n",
    "with open (\"q15_in.txt\", \"r\") as f:\n",
    "    f.seek(0)\n",
    "    for i in range(1,4):\n",
    "        o8 = f.readline(4)\n",
    "        i += 1\n",
    "    print (o8) \n",
    "    \n",
    "with open (\"q15_out.txt\", \"w\") as f:\n",
    "    f.write(o8)\n",
    "    "
   ]
  },
  {
   "cell_type": "markdown",
   "metadata": {},
   "source": [
    "#### Question 16 &nbsp;&nbsp;&nbsp;&nbsp;&nbsp;&nbsp;(4 Points)\n",
    "\n",
    "Create a Python program to overwrite the existing file `q16.txt` with the text `truncate`, then read that file.\n",
    "\n",
    "Create a string variable `output16` and assign the solution to it.\n",
    "\n",
    "---\n",
    "<details>\n",
    "  <summary><span style=\"color:blue\">Hints for testing</span></summary>\n",
    "   Test your code against your own text file to ensure you are getting the behaviour that you want before submission.\n",
    "</details>"
   ]
  },
  {
   "cell_type": "code",
   "execution_count": null,
   "metadata": {
    "tags": []
   },
   "outputs": [],
   "source": [
    "# Write your solution here\n",
    "with open (\"q16.txt\", \"w+\") as f:\n",
    "    f.write(\"truncate\")\n",
    "#     f.seek(0)\n",
    "    output16 = f.read()\n"
   ]
  },
  {
   "cell_type": "markdown",
   "metadata": {},
   "source": [
    "#### Question 17 &nbsp;&nbsp;&nbsp;&nbsp;&nbsp;&nbsp;(6 Points)\n",
    "\n",
    "The file `q17.txt` contains some uppercase text. Create a Python program to change the capitalisation of its contents to lowercase.\n",
    "\n",
    "\n",
    "---\n",
    "<details>\n",
    "  <summary><span style=\"color:blue\">Hints for testing</span></summary>\n",
    "   Test your code against your own `q17.txt` text file containing `THIS IS a file CONTAINING a MIX of Cases` to ensure you are getting the behaviour that you want before submission.\n",
    "</details>"
   ]
  },
  {
   "cell_type": "code",
   "execution_count": null,
   "metadata": {
    "tags": []
   },
   "outputs": [],
   "source": [
    "# Write your solution here\n",
    "with open (\"q17.txt\",\"r\") as f:\n",
    "    a = f.read()\n",
    "    \n",
    "print (a)\n",
    "a = a.lower()\n",
    "print (a)\n",
    "\n",
    "with open (\"q17.txt\", \"w\") as f:\n",
    "    f.write(a)"
   ]
  },
  {
   "cell_type": "markdown",
   "metadata": {},
   "source": [
    "#### Question 18 &nbsp;&nbsp;&nbsp;&nbsp;&nbsp;&nbsp;(6 Points)\n",
    "\n",
    "The file `q18.txt` contains the word `PASSWORD` exactly once somewhere in the text. Create a Python program to replace that word with `********` in that file.\n",
    "\n",
    "\n",
    "---\n",
    "<details>\n",
    "  <summary><span style=\"color:blue\">Hints for testing</span></summary>\n",
    "   Test your code against your own `q18.txt` text file containing `THIS file contains a PASSWORD` to ensure you are getting the behaviour that you want before submission.\n",
    "</details>"
   ]
  },
  {
   "cell_type": "code",
   "execution_count": null,
   "metadata": {
    "tags": []
   },
   "outputs": [],
   "source": [
    "# Write your solution here\n",
    "with open (\"q18.txt\", \"r\") as f:\n",
    "#     print (f.read())\n",
    "    a = f.read()\n",
    "    \n",
    "a = a.replace(\"PASSWORD\", \"********\")\n",
    "print (a)\n",
    "\n",
    "with open (\"q18.txt\", \"w\") as f:\n",
    "    f.write(a)"
   ]
  },
  {
   "cell_type": "markdown",
   "metadata": {},
   "source": [
    "#### Question 19 &nbsp;&nbsp;&nbsp;&nbsp;&nbsp;&nbsp;(6 Points)\n",
    "\n",
    "The file `q19.txt` contains some text. Create a Python program to duplicate its contents. Do **not** add extra characters or newlines between the original and duplicated content.\n",
    "\n",
    "*For example, if it contained `123\\n456`, the text should be updated to `123\\n456123\\n456`*\n",
    "\n",
    "---\n",
    "<details>\n",
    "  <summary><span style=\"color:blue\">Hints for testing</span></summary>\n",
    "   Test your code against your own `q19.txt` text file to ensure you are getting the behaviour that you want before submission.\n",
    "</details>"
   ]
  },
  {
   "cell_type": "code",
   "execution_count": null,
   "metadata": {
    "tags": []
   },
   "outputs": [],
   "source": [
    "# Write your solution here\n",
    "with open (\"q19.txt\", \"r\") as file:\n",
    "    val = file.read()\n",
    "val *=2\n",
    "print (val)\n",
    "\n",
    "with open (\"q19.txt\", \"w\") as file:\n",
    "    file.write(val)"
   ]
  },
  {
   "cell_type": "markdown",
   "metadata": {},
   "source": [
    "#### Question 20 &nbsp;&nbsp;&nbsp;&nbsp;&nbsp;&nbsp;(6 Points)\n",
    "\n",
    "The file `q20.txt` contains some text. Create a Python program to replace characters 10, 11, 12, and 13 with the characters `GOOD`, respectively. \n",
    "\n",
    "*For example, if it contained `abcdefghijklmnopqrstuvwxyz`, the text should be updated to `abcdefghiGOODnopqrstuvwxyz`.*\n",
    "\n",
    "---\n",
    "<details>\n",
    "  <summary><span style=\"color:blue\">Hints for testing</span></summary>\n",
    "   Test your code against your own `q20.txt` text file containing `They are okay` to ensure you are getting the behaviour that you want before submission.\n",
    "</details>"
   ]
  },
  {
   "cell_type": "code",
   "execution_count": null,
   "metadata": {
    "tags": []
   },
   "outputs": [],
   "source": [
    "# Write your solution here\n",
    "with open (\"q20.txt\", \"r\") as f:\n",
    "    a = f.read()\n",
    "    \n",
    "print (a)\n",
    "\n",
    "print (a[0])\n",
    "a = a.replace(a[9:13], \"GOOD\")\n",
    "print (a)\n",
    "\n",
    "with open (\"q20.txt\", \"w\") as f:\n",
    "    f.write(a)"
   ]
  },
  {
   "cell_type": "markdown",
   "metadata": {},
   "source": [
    "#### Question 21 &nbsp;&nbsp;&nbsp;&nbsp;&nbsp;&nbsp;(6 Points)\n",
    "\n",
    "Create a Python program to check if the file `q21.txt` exists. \n",
    "\n",
    "Create a Boolean variable `output21`. If the file exists set its value to `True`, otherwise `False`.  \n",
    "\n",
    "Your code should **not** create the file.\n"
   ]
  },
  {
   "cell_type": "code",
   "execution_count": null,
   "metadata": {
    "tags": []
   },
   "outputs": [],
   "source": [
    "# Write your solution here\n",
    "try:\n",
    "    with open (\"q21.txt\", \"r\") as f:\n",
    "        output21 = True\n",
    "except:\n",
    "    output21 = False\n",
    "    "
   ]
  },
  {
   "cell_type": "markdown",
   "metadata": {},
   "source": [
    "#### Question 22 &nbsp;&nbsp;&nbsp;&nbsp;&nbsp;&nbsp;(6 Points)\n",
    "\n",
    "The file `q22.txt` contains set of numbers separated by spaces. Create a Python program to create a new empty file named `q22.csv`, then write contents of `q22.txt` into that that to that file except with the spaces replaced with commas."
   ]
  },
  {
   "cell_type": "code",
   "execution_count": null,
   "metadata": {
    "tags": []
   },
   "outputs": [],
   "source": [
    "# Write your solution here\n",
    "with open (\"q22.txt\", \"r\") as f:\n",
    "    a = f.read()\n",
    "print (a)\n",
    "a = a.replace (\" \", \",\")\n",
    "print (a)\n",
    "\n",
    "with open (\"q22.csv\", \"w\") as f:\n",
    "    f.write(a)"
   ]
  },
  {
   "cell_type": "markdown",
   "metadata": {},
   "source": [
    "#### Question 23 &nbsp;&nbsp;&nbsp;&nbsp;&nbsp;&nbsp;(10 Points)\n",
    "\n",
    "There are a series of files named `q23_1.txt`, `q23_2.txt` ... `q23_n.txt`, where `n` is some number. \n",
    "\n",
    "Create a Python program to create a new empty file with the first available name, then write that number to the contents of the new file.\n",
    "\n",
    "*For example if the files were `q23_1.txt`, `q23_2.txt`, `q23_3.txt`, your program would create `q23_4.txt` whose contents is `4`*.\n",
    "\n",
    "---\n",
    "<details>\n",
    "  <summary><span style=\"color:blue\">Hints for testing</span></summary>\n",
    "   Test your code against your own series of text files to ensure you are getting the behaviour that you want before submission.\n",
    "</details>"
   ]
  },
  {
   "cell_type": "code",
   "execution_count": null,
   "metadata": {
    "tags": []
   },
   "outputs": [],
   "source": [
    "# Write your solution here\n",
    "n = 10\n",
    "\n",
    "\n",
    "for i in range(1,n,1):\n",
    "    a = f\"q23_{i}.txt\"\n",
    "    try:\n",
    "        with open (a, \"r\") as f:\n",
    "            f.read()            \n",
    "    except:\n",
    "        output21 = False\n",
    "        break\n",
    "        \n",
    "    else:\n",
    "        a = f\"q23_{i}.txt\"\n",
    "        print (a)\n",
    "\n",
    "print (i)\n",
    "a = f\"q23_{i}.txt\"\n",
    "\n",
    "with open (a, \"w\") as f:\n",
    "    f.write(str(i))\n",
    "    \n",
    "with open (a, \"r\") as f:\n",
    "    print (f.read())\n",
    "    "
   ]
  },
  {
   "cell_type": "markdown",
   "metadata": {},
   "source": [
    "#### Question 24 &nbsp;&nbsp;&nbsp;&nbsp;&nbsp;&nbsp;(10 Points)\n",
    "\n",
    "The file `q24.txt` contains 10 lines of text. Create a Python program to reverse the order of those lines within that file.\n",
    "\n",
    "---\n",
    "<details>\n",
    "  <summary><span style=\"color:blue\">Hints for testing</span></summary>\n",
    "   Test your code against your own `q24.txt` text file containing multiple lines of text to ensure you are getting the behaviour that you want before submission.\n",
    "</details>"
   ]
  },
  {
   "cell_type": "code",
   "execution_count": null,
   "metadata": {
    "tags": []
   },
   "outputs": [],
   "source": [
    "# Write your solution here\n",
    "a = []\n",
    "with open (\"q24.txt\" , \"r\") as f:\n",
    "    for i in f:\n",
    "        a.append(i)\n",
    "    \n",
    "# print(a)\n",
    "a.reverse()\n",
    "# print (type(a))\n",
    "# print (a)\n",
    "\n",
    "if a[0].endswith(\"\\n\"):\n",
    "#     print (\"True\")\n",
    "    pass\n",
    "else:\n",
    "    a[0] = a[0] + \"\\n\"\n",
    "\n",
    "\n",
    "# print (a)\n",
    "with open (\"q24.txt\" ,\"w\") as f:\n",
    "    f.writelines(a)\n",
    "    \n",
    "with open (\"q24.txt\", \"r\") as f:\n",
    "    print (f.read())\n"
   ]
  }
 ],
 "metadata": {
  "kernelspec": {
   "display_name": "Python 3.9.6 64-bit",
   "language": "python",
   "name": "python3"
  },
  "language_info": {
   "codemirror_mode": {
    "name": "ipython",
    "version": 3
   },
   "file_extension": ".py",
   "mimetype": "text/x-python",
   "name": "python",
   "nbconvert_exporter": "python",
   "pygments_lexer": "ipython3",
   "version": "3.9.6"
  },
  "otter": {
   "tests": {
    "Question 01": {
     "name": "Question 01",
     "points": 1,
     "suites": [
      {
       "cases": [],
       "scored": true,
       "setup": "",
       "teardown": "",
       "type": "doctest"
      }
     ]
    },
    "Question 02": {
     "name": "Question 02",
     "points": 1,
     "suites": [
      {
       "cases": [],
       "scored": true,
       "setup": "",
       "teardown": "",
       "type": "doctest"
      }
     ]
    },
    "Question 03": {
     "name": "Question 03",
     "points": 1,
     "suites": [
      {
       "cases": [],
       "scored": true,
       "setup": "",
       "teardown": "",
       "type": "doctest"
      }
     ]
    },
    "Question 04": {
     "name": "Question 04",
     "points": 1,
     "suites": [
      {
       "cases": [],
       "scored": true,
       "setup": "",
       "teardown": "",
       "type": "doctest"
      }
     ]
    },
    "Question 05": {
     "name": "Question 05",
     "points": 1,
     "suites": [
      {
       "cases": [],
       "scored": true,
       "setup": "",
       "teardown": "",
       "type": "doctest"
      }
     ]
    },
    "Question 06": {
     "name": "Question 06",
     "points": 3,
     "suites": [
      {
       "cases": [],
       "scored": true,
       "setup": "",
       "teardown": "",
       "type": "doctest"
      }
     ]
    },
    "Question 07": {
     "name": "Question 07",
     "points": 3,
     "suites": [
      {
       "cases": [],
       "scored": true,
       "setup": "",
       "teardown": "",
       "type": "doctest"
      }
     ]
    },
    "Question 08": {
     "name": "Question 08",
     "points": 3,
     "suites": [
      {
       "cases": [],
       "scored": true,
       "setup": "",
       "teardown": "",
       "type": "doctest"
      }
     ]
    },
    "Question 09": {
     "name": "Question 09",
     "points": 3,
     "suites": [
      {
       "cases": [],
       "scored": true,
       "setup": "",
       "teardown": "",
       "type": "doctest"
      }
     ]
    },
    "Question 10": {
     "name": "Question 10",
     "points": 3,
     "suites": [
      {
       "cases": [],
       "scored": true,
       "setup": "",
       "teardown": "",
       "type": "doctest"
      }
     ]
    },
    "q11": {
     "name": "q11",
     "points": 4,
     "suites": [
      {
       "cases": [],
       "scored": true,
       "setup": "",
       "teardown": "",
       "type": "doctest"
      }
     ]
    },
    "q12": {
     "name": "q12",
     "points": 4,
     "suites": [
      {
       "cases": [],
       "scored": true,
       "setup": "",
       "teardown": "",
       "type": "doctest"
      }
     ]
    },
    "q13": {
     "name": "q13",
     "points": 4,
     "suites": [
      {
       "cases": [],
       "scored": true,
       "setup": "",
       "teardown": "",
       "type": "doctest"
      }
     ]
    },
    "q14": {
     "name": "q14",
     "points": 4,
     "suites": [
      {
       "cases": [],
       "scored": true,
       "setup": "",
       "teardown": "",
       "type": "doctest"
      }
     ]
    },
    "q15": {
     "name": "q15",
     "points": 4,
     "suites": [
      {
       "cases": [],
       "scored": true,
       "setup": "",
       "teardown": "",
       "type": "doctest"
      }
     ]
    },
    "q16": {
     "name": "q16",
     "points": 4,
     "suites": [
      {
       "cases": [],
       "scored": true,
       "setup": "",
       "teardown": "",
       "type": "doctest"
      }
     ]
    },
    "q17": {
     "name": "q17",
     "points": 6,
     "suites": [
      {
       "cases": [],
       "scored": true,
       "setup": "",
       "teardown": "",
       "type": "doctest"
      }
     ]
    },
    "q18": {
     "name": "q18",
     "points": 6,
     "suites": [
      {
       "cases": [],
       "scored": true,
       "setup": "",
       "teardown": "",
       "type": "doctest"
      }
     ]
    },
    "q19": {
     "name": "q19",
     "points": 6,
     "suites": [
      {
       "cases": [],
       "scored": true,
       "setup": "",
       "teardown": "",
       "type": "doctest"
      }
     ]
    },
    "q20": {
     "name": "q20",
     "points": 6,
     "suites": [
      {
       "cases": [],
       "scored": true,
       "setup": "",
       "teardown": "",
       "type": "doctest"
      }
     ]
    },
    "q21": {
     "name": "q21",
     "points": 6,
     "suites": [
      {
       "cases": [],
       "scored": true,
       "setup": "",
       "teardown": "",
       "type": "doctest"
      }
     ]
    },
    "q22": {
     "name": "q22",
     "points": 6,
     "suites": [
      {
       "cases": [],
       "scored": true,
       "setup": "",
       "teardown": "",
       "type": "doctest"
      }
     ]
    },
    "q23": {
     "name": "q23",
     "points": 10,
     "suites": [
      {
       "cases": [],
       "scored": true,
       "setup": "",
       "teardown": "",
       "type": "doctest"
      }
     ]
    },
    "q24": {
     "name": "q24",
     "points": 10,
     "suites": [
      {
       "cases": [],
       "scored": true,
       "setup": "",
       "teardown": "",
       "type": "doctest"
      }
     ]
    }
   }
  },
  "varInspector": {
   "cols": {
    "lenName": 16,
    "lenType": 16,
    "lenVar": 40
   },
   "kernels_config": {
    "python": {
     "delete_cmd_postfix": "",
     "delete_cmd_prefix": "del ",
     "library": "var_list.py",
     "varRefreshCmd": "print(var_dic_list())"
    },
    "r": {
     "delete_cmd_postfix": ") ",
     "delete_cmd_prefix": "rm(",
     "library": "var_list.r",
     "varRefreshCmd": "cat(var_dic_list()) "
    }
   },
   "types_to_exclude": [
    "module",
    "function",
    "builtin_function_or_method",
    "instance",
    "_Feature"
   ],
   "window_display": false
  },
  "vscode": {
   "interpreter": {
    "hash": "aee8b7b246df8f9039afb4144a1f6fd8d2ca17a180786b69acc140d282b71a49"
   }
  }
 },
 "nbformat": 4,
 "nbformat_minor": 4
}
