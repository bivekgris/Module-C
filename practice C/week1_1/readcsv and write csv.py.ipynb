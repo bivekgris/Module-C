{
 "cells": [
  {
   "cell_type": "code",
   "execution_count": 3,
   "id": "59fb3366",
   "metadata": {},
   "outputs": [
    {
     "name": "stdout",
     "output_type": "stream",
     "text": [
      "['name', 'age', 'postcode']\n",
      "['John', '52', '5002']\n",
      "['Ye', '18', '3005']\n",
      "['Siobhan', '34', '2356']\n"
     ]
    }
   ],
   "source": [
    "#Reading CSV with encoding\n",
    "\n",
    "import csv\n",
    "\n",
    "f=open('customers.csv','r', encoding='utf-8-sig')\n",
    "\n",
    "x_reader=csv.reader(f)\n",
    "\n",
    "for row in x_reader:\n",
    "    print(row)\n",
    "\n",
    "f.close()"
   ]
  },
  {
   "cell_type": "markdown",
   "id": "fcf60573",
   "metadata": {},
   "source": [
    "## Writing CSV"
   ]
  },
  {
   "cell_type": "code",
   "execution_count": 5,
   "id": "4d3f0484",
   "metadata": {},
   "outputs": [],
   "source": [
    "import csv\n",
    "\n",
    "data = [['name','age','postcode'],\n",
    "    ['John', 52, 5002],\n",
    "    ['Ye', 18, 3005],\n",
    "    ['Siobhan', 34, 2356]]\n",
    "\n",
    "extra_data=['Jose',44,5125]\n",
    "\n",
    "with open('output.csv','w') as file:\n",
    "    writer=csv.writer(file)\n",
    "    writer.writerows(data)\n",
    "    writer.writerow(extra_data)"
   ]
  },
  {
   "cell_type": "markdown",
   "id": "46901411",
   "metadata": {},
   "source": [
    "## Practice"
   ]
  },
  {
   "cell_type": "code",
   "execution_count": 9,
   "id": "d2041ff3",
   "metadata": {},
   "outputs": [
    {
     "name": "stdout",
     "output_type": "stream",
     "text": [
      "['name', 'age', 'postcode']\n",
      "['Bivek', '25', '5092']\n",
      "['Ye', '18', '3005']\n",
      "['Siobhan', '34', '2356']\n",
      "['Jose', '44', '5125']\n",
      "['Prayusha', '25', '5035']\n",
      "['Prayusha', '25', '5035']\n"
     ]
    }
   ],
   "source": [
    "extra_Data=['Prayusha',25,5035]\n",
    "with open('data.csv','r+') as f:\n",
    "    reader=csv.reader(f)\n",
    "    for row in reader:\n",
    "        print(row)\n",
    "    writer=csv.writer(f)\n",
    "    writer.writerow(extra_Data)\n",
    "    reader=csv.reader(f)\n",
    "    for row in reader:\n",
    "        print(row)\n",
    "    "
   ]
  },
  {
   "cell_type": "code",
   "execution_count": null,
   "id": "320684ee",
   "metadata": {},
   "outputs": [],
   "source": []
  }
 ],
 "metadata": {
  "kernelspec": {
   "display_name": "Python 3 (ipykernel)",
   "language": "python",
   "name": "python3"
  },
  "language_info": {
   "codemirror_mode": {
    "name": "ipython",
    "version": 3
   },
   "file_extension": ".py",
   "mimetype": "text/x-python",
   "name": "python",
   "nbconvert_exporter": "python",
   "pygments_lexer": "ipython3",
   "version": "3.9.12"
  }
 },
 "nbformat": 4,
 "nbformat_minor": 5
}
