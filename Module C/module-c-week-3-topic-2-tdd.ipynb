{
 "cells": [
  {
   "cell_type": "code",
   "execution_count": null,
   "metadata": {},
   "outputs": [],
   "source": [
    "import pandas as pd\n",
    "import numpy as np\n",
    "\n",
    "import otter\n",
    "grader = otter.Notebook()"
   ]
  },
  {
   "cell_type": "markdown",
   "metadata": {
    "tags": []
   },
   "source": [
    "# <mark style=\"background: #801010; color: #ffffff;\" >C</mark> Week 3: Practice Test Driven Development \n",
    "\n",
    "------\n",
    "\n",
    "### Instructions:\n",
    "\n",
    "- Complete 50 points worth of questions to pass the assessment\n",
    "- You can attempt any number of questions and in any order provided you pass at least 50 points.\n",
    "- These questions should be attempted directly in this notebook.\n",
    "- Be sure to check your work before submitting.\n",
    "- Do not remove any provided markings from the answer spaces.\n",
    "- Do not make any changes to this notebook outside of the answer spaces provided.\n",
    "  \n",
    "#### Submitting\n",
    "\n",
    "- Reset your outputs before submitting\n",
    "- Select the `Kernel` menu, then either `Restart & Run Clear Output` or `Restart & Run All`\n",
    "- Don't forget to save your notebook after this step\n",
    "- Submit your .ipynb file to Gradescope via upload\n",
    "- You can submit as many times as needed\n",
    "- When reviewing results, **ignore** any results listed under \"Public Tests\"  \n",
    "  (There are no \"Public Tests\" in this assignment)\n",
    "\n",
    "For more information, see the assessment page."
   ]
  },
  {
   "cell_type": "markdown",
   "metadata": {},
   "source": [
    "#### Question 01 &nbsp;&nbsp;&nbsp;&nbsp;&nbsp;&nbsp;(10 Points)\n",
    "\n",
    "We are to embark on a Test Driven Development \"Red-Green-Refactor\" workflow.\n",
    "\n",
    "Our overall intent is to develop a (trivial) function with the following definition via TDD:\n",
    "```python\n",
    "def integer_divide (numerator, denominator):\n",
    "    ...\n",
    "```\n",
    "with the following requirements:\n",
    "1. The function performs floor division of numerator and denominator,\n",
    "2. The result of a successful division is an integer,\n",
    "3. A divide by zero error is indicated by returning `False`.\n",
    "\n",
    "In the first three questions, we wish to write *failing tests* for each of these three requirements using `assert` statements. In Question 4, we will complete the requirements and re-test.\n",
    "\n",
    "Complete a function defined as:\n",
    "```python\n",
    "    def test_floor_division (function_under_test):\n",
    "```\n",
    "that accepts the function under test as its only parameter. In your function, you should test the first requirement \"performs floor division of numerator and denominator\" returning `True` if the requirement is passed and `False` if the tested requirement fails. In this case, because `integer_divide` has not been completed, your test must return `False`.\n",
    "\n",
    "You should catch any `AssertionErrors` and convert these to a return value of `False`.\n"
   ]
  },
  {
   "cell_type": "code",
   "execution_count": 2,
   "metadata": {
    "tags": []
   },
   "outputs": [],
   "source": [
    "# Do not modify this stub:\n",
    "def integer_divide (numerator, denominator):\n",
    "    \"\"\" A function with the following requirements:\n",
    "    1. It performs floor division of numerator and denominator,\n",
    "    2. The result of a successful division is an integer,\n",
    "    3. A divide by zero error is indicated by returning `False`.\n",
    "    \"\"\"\n",
    "    pass\n",
    "\n",
    "def test_floor_division (function_under_test):\n",
    "\n",
    "    # Write your test for floor division of numerator and denominator of the function under test here: \n",
    "    \n",
    "    # Your solution will include excetion handling, return statements and a statement like:\n",
    "    #    \n",
    "    #     assert function_under_test (X, Y) == Z where you choose X, Y and Z as a test for floor division\n",
    "    #\n",
    "    try:\n",
    "        assert function_under_test(8,3) == 2\n",
    "    except:\n",
    "        return False\n",
    "    else:\n",
    "        return True"
   ]
  },
  {
   "cell_type": "markdown",
   "metadata": {},
   "source": [
    "#### Question 02 &nbsp;&nbsp;&nbsp;&nbsp;&nbsp;&nbsp;(10 Points)\n",
    "\n",
    "Write a *failing test* defined as:\n",
    "```python\n",
    "    def test_return_type (function_under_test):\n",
    "```\n",
    "that tests requirement 2, that the return value of the function under test is an integer returning `True`/`False` according to whether the test passed."
   ]
  },
  {
   "cell_type": "code",
   "execution_count": 5,
   "metadata": {
    "tags": []
   },
   "outputs": [],
   "source": [
    "def test_return_type (function_under_test):\n",
    "\n",
    "    # Write your solution here\n",
    "    try:\n",
    "        assert isinstance(function_under_test(8,3),int) == True\n",
    "    except:\n",
    "        return False\n",
    "    else:\n",
    "        return True"
   ]
  },
  {
   "cell_type": "markdown",
   "metadata": {},
   "source": [
    "#### Question 03 &nbsp;&nbsp;&nbsp;&nbsp;&nbsp;&nbsp;(10 Points)\n",
    "\n",
    "Write a *failing test* defined as:\n",
    "```python \n",
    "    def test_divide_by_zero (function_under_test):\n",
    "```\n",
    "that tests the third requirement \"A divide by zero error is indicated by returning `False`\"."
   ]
  },
  {
   "cell_type": "code",
   "execution_count": 6,
   "metadata": {
    "tags": []
   },
   "outputs": [],
   "source": [
    "def test_divide_by_zero (function_under_test):\n",
    "    \n",
    "    # Write your solution here\n",
    "    try:\n",
    "        assert function_under_test(2,0) == False\n",
    "    except:\n",
    "        return False\n",
    "    else:\n",
    "        return True"
   ]
  },
  {
   "cell_type": "markdown",
   "metadata": {},
   "source": [
    "#### Question 04 &nbsp;&nbsp;&nbsp;&nbsp;&nbsp;&nbsp;(10 Points)\n",
    "\n",
    "Now complete all of the requirements for the function:\n",
    "```python\n",
    "def integer_divide (numerator, denominator):\n",
    "    ...\n",
    "```\n",
    "and rerun each of the three test cases to ensure the requirements are met."
   ]
  },
  {
   "cell_type": "code",
   "execution_count": 7,
   "metadata": {
    "tags": []
   },
   "outputs": [
    {
     "name": "stdout",
     "output_type": "stream",
     "text": [
      "True\n",
      "True\n",
      "True\n"
     ]
    }
   ],
   "source": [
    "def integer_divide (numerator, denominator):\n",
    "\n",
    "    # Write your solution here\n",
    "    if denominator != 0:\n",
    "        ans = numerator // denominator\n",
    "        if isinstance(ans,int) == True:\n",
    "            return ans\n",
    "    else:\n",
    "        return False\n",
    "print(test_floor_division(integer_divide))\n",
    "print(test_return_type(integer_divide))\n",
    "print(test_divide_by_zero(integer_divide))"
   ]
  },
  {
   "cell_type": "markdown",
   "metadata": {},
   "source": [
    "#### Question 05 &nbsp;&nbsp;&nbsp;&nbsp;&nbsp;&nbsp;(10 Points)\n",
    "\n",
    "Following a similar approach to the previous questions, let us establish the requirements for another Python program before proceeding to follow a TDD cycle.\n",
    "\n",
    "We wish to write a function:\n",
    "```python\n",
    "def lucky_miss_andrews (infile):\n",
    "    ...\n",
    "```    \n",
    "that examines data from the Titanic disaster in pandas and creates a pandas `DataFrame` with one lucky passenger: Miss. Kornelia Theodosia Andrews - a 63 year old woman who survived the disaster.\n",
    "\n",
    "The requirements for the function are:\n",
    "1. accepts a CSV file of data concerning the fate of the Titanic passengers and returns a DataFrame.\n",
    "2. the returned DataFrame has the title set to \"Miss Andrews\",\n",
    "3. the returned DataFrame has the index set to \"PassengerId\",\n",
    "4. the returned DataFrame has the columns 'SibSp', 'Parch', 'Ticket', 'Fare', 'Cabin', 'Embarked' dropped (see hint below)\n",
    "5. the returned DataFrame contains the information of the female, first class survivors over 62 years of age.\n",
    "     \n",
    "In the following questions, we wish to write failing tests for these requirements using assert statements. In question 10, we will complete the requirements and re-test.\n",
    "\n",
    "Complete a failing test as a function `test_requirement_1 (function_under_test)` that tests by assertion requirement 1. The test must return `True` if successful and `False` otherwise. You should supply data to the function under test in the form of a csv file [available here](https://myuni.adelaide.edu.au/files/11148918/download?download_frd=1)."
   ]
  },
  {
   "cell_type": "code",
   "execution_count": 16,
   "metadata": {
    "tags": []
   },
   "outputs": [],
   "source": [
    "TEST_DATA = 'titanic.csv'\n",
    "\n",
    "# Do not modify this stubbed function ... yet.\n",
    "def lucky_miss_andrews (infile = TEST_DATA):\n",
    "    pass\n",
    "\n",
    "def test_requirement_1 (function_under_test):\n",
    "\n",
    "    # This function must test requirement one - that an input CSV file generates a DataFrame\n",
    "    # Write your solution here\n",
    "    try:\n",
    "        assert TEST_DATA.endswith('.csv') == True\n",
    "        assert isinstance(function_under_test(TEST_DATA),pd.DataFrame) == True\n",
    "    except:\n",
    "        return False\n",
    "    else:\n",
    "        return True"
   ]
  },
  {
   "cell_type": "markdown",
   "metadata": {
    "tags": []
   },
   "source": [
    "#### Question 06 &nbsp;&nbsp;&nbsp;&nbsp;&nbsp;&nbsp;(10 Points)\n",
    "\n",
    "Now write a `test_requirement_2` to ensure that the title of the returned `DataFrame` is correctly set (requirement 2). Your test should return `True` if the test passed, otherwise `False`."
   ]
  },
  {
   "cell_type": "code",
   "execution_count": 37,
   "metadata": {
    "tags": []
   },
   "outputs": [],
   "source": [
    "def test_requirement_2 (function_under_test):\n",
    "\n",
    "    # Write your solution here\n",
    "    try:\n",
    "        assert \"Miss Andrews\" in list(function_under_test(TEST_DATA).columns)\n",
    "    except:\n",
    "        return False\n",
    "    else:\n",
    "        return True\n"
   ]
  },
  {
   "cell_type": "markdown",
   "metadata": {},
   "source": [
    "#### Question 07 &nbsp;&nbsp;&nbsp;&nbsp;&nbsp;&nbsp;(10 Points)\n",
    "\n",
    "Make sure the returned `DataFrame` has the index set to `'PassengerId'` (requirement 3) by writing a `test_requirement_3`. "
   ]
  },
  {
   "cell_type": "code",
   "execution_count": 28,
   "metadata": {
    "tags": []
   },
   "outputs": [],
   "source": [
    "def test_requirement_3 (function_under_test):\n",
    "\n",
    "    # Write your solution here\n",
    "    try:\n",
    "        assert function_under_test(TEST_DATA).index.name == 'PassengerId'\n",
    "    except:\n",
    "        return False\n",
    "    else:\n",
    "        return True"
   ]
  },
  {
   "cell_type": "markdown",
   "metadata": {
    "tags": []
   },
   "source": [
    "#### Question 08 &nbsp;&nbsp;&nbsp;&nbsp;&nbsp;&nbsp;(10 Points)\n",
    "\n",
    "Write a `test_requirement_4` to ensure the following columns have been dropped (requirement 4):\n",
    "```python\n",
    "'SibSp', 'Parch', 'Ticket', 'Fare', 'Cabin', 'Embarked'\n",
    "```"
   ]
  },
  {
   "cell_type": "code",
   "execution_count": 20,
   "metadata": {
    "tags": []
   },
   "outputs": [],
   "source": [
    "DROPPED_COLS = ['SibSp', 'Parch', 'Ticket', 'Fare', 'Cabin', 'Embarked']\n",
    "\n",
    "def test_requirement_4 (function_under_test):\n",
    "\n",
    "    # Write your solution here\n",
    "    try:\n",
    "        assert DROPPED_COLS not in list(function_under_test(TEST_DATA).columns)\n",
    "    except:\n",
    "        return False\n",
    "    else:\n",
    "        return True"
   ]
  },
  {
   "cell_type": "markdown",
   "metadata": {},
   "source": [
    "#### Question 09 &nbsp;&nbsp;&nbsp;&nbsp;&nbsp;&nbsp;(10 Points)\n",
    "\n",
    "Finally, write a `test_requirement_5` that checks the returned DataFrame contains **only** the information of the female, first class survivors over 62 years of age (requirement 5): Miss. Kornelia Theodosia Andrews."
   ]
  },
  {
   "cell_type": "code",
   "execution_count": 21,
   "metadata": {
    "tags": []
   },
   "outputs": [],
   "source": [
    "def test_requirement_5 (function_under_test):\n",
    "\n",
    "    # Write your solution here\n",
    "    try:\n",
    "        assert len(function_under_test(TEST_DATA).index) == 1\n",
    "    except:\n",
    "        return False\n",
    "    else:\n",
    "        return True"
   ]
  },
  {
   "cell_type": "markdown",
   "metadata": {
    "tags": []
   },
   "source": [
    "#### Question 10 &nbsp;&nbsp;&nbsp;&nbsp;&nbsp;&nbsp;(10 Points)\n",
    "\n",
    "Having completed our failing tests, now implement the requirements of the function:\n",
    "```python\n",
    "def lucky_miss_andrews (infile = TEST_DATA):\n",
    "    ...\n",
    "```\n",
    "All tests should now return `True`."
   ]
  },
  {
   "cell_type": "code",
   "execution_count": 38,
   "metadata": {
    "tags": []
   },
   "outputs": [
    {
     "name": "stdout",
     "output_type": "stream",
     "text": [
      "True\n",
      "True\n",
      "True\n",
      "True\n",
      "True\n"
     ]
    }
   ],
   "source": [
    "import numpy as np\n",
    "import pandas as pd\n",
    "def lucky_miss_andrews (infile = TEST_DATA):\n",
    "    \n",
    "    # Write your solution here\n",
    "    DROPPED_COLS = ['SibSp', 'Parch', 'Ticket', 'Fare', 'Cabin', 'Embarked']\n",
    "    df = pd.read_csv(infile)\n",
    "    df.rename(columns={'Name':'Miss Andrews'},inplace = True)\n",
    "    df.set_index('PassengerId', inplace = True)\n",
    "    df.drop(columns = DROPPED_COLS, inplace = True)\n",
    "    df = df.loc[(df['Survived'] == 1) & (df['Age'] > 62) & (df['Sex'] == 'female') & (df['Pclass'] == 1)]\n",
    "#     df.style.set_table_attributes(\"style='display:inline'\").set_caption('Miss Andrews')\n",
    "    return df\n",
    "# df.rename(columns={'Name':'Miss Andrews'}, inplace=True)\n",
    "TEST_DATA = 'titanic.csv'\n",
    "# lucky_miss_andrews(TEST_DATA)\n",
    "print(test_requirement_1(lucky_miss_andrews))\n",
    "print(test_requirement_2(lucky_miss_andrews))\n",
    "print(test_requirement_3(lucky_miss_andrews))\n",
    "print(test_requirement_4(lucky_miss_andrews))\n",
    "print(test_requirement_5(lucky_miss_andrews))"
   ]
  }
 ],
 "metadata": {
  "kernelspec": {
   "display_name": "Python 3 (ipykernel)",
   "language": "python",
   "name": "python3"
  },
  "language_info": {
   "codemirror_mode": {
    "name": "ipython",
    "version": 3
   },
   "file_extension": ".py",
   "mimetype": "text/x-python",
   "name": "python",
   "nbconvert_exporter": "python",
   "pygments_lexer": "ipython3",
   "version": "3.9.12"
  },
  "otter": {
   "tests": {
    "Question 01": {
     "name": "Question 01",
     "points": 10,
     "suites": [
      {
       "cases": [],
       "scored": true,
       "setup": "",
       "teardown": "",
       "type": "doctest"
      }
     ]
    },
    "Question 02": {
     "name": "Question 02",
     "points": 10,
     "suites": [
      {
       "cases": [],
       "scored": true,
       "setup": "",
       "teardown": "",
       "type": "doctest"
      }
     ]
    },
    "Question 03": {
     "name": "Question 03",
     "points": 10,
     "suites": [
      {
       "cases": [],
       "scored": true,
       "setup": "",
       "teardown": "",
       "type": "doctest"
      }
     ]
    },
    "Question 04": {
     "name": "Question 04",
     "points": 10,
     "suites": [
      {
       "cases": [],
       "scored": true,
       "setup": "",
       "teardown": "",
       "type": "doctest"
      }
     ]
    },
    "Question 05": {
     "name": "Question 05",
     "points": 10,
     "suites": [
      {
       "cases": [],
       "scored": true,
       "setup": "",
       "teardown": "",
       "type": "doctest"
      }
     ]
    },
    "Question 06": {
     "name": "Question 06",
     "points": 10,
     "suites": [
      {
       "cases": [],
       "scored": true,
       "setup": "",
       "teardown": "",
       "type": "doctest"
      }
     ]
    },
    "Question 07": {
     "name": "Question 07",
     "points": 10,
     "suites": [
      {
       "cases": [],
       "scored": true,
       "setup": "",
       "teardown": "",
       "type": "doctest"
      }
     ]
    },
    "Question 08": {
     "name": "Question 08",
     "points": 10,
     "suites": [
      {
       "cases": [],
       "scored": true,
       "setup": "",
       "teardown": "",
       "type": "doctest"
      }
     ]
    },
    "Question 09": {
     "name": "Question 09",
     "points": 10,
     "suites": [
      {
       "cases": [],
       "scored": true,
       "setup": "",
       "teardown": "",
       "type": "doctest"
      }
     ]
    },
    "Question 10": {
     "name": "Question 10",
     "points": 10,
     "suites": [
      {
       "cases": [],
       "scored": true,
       "setup": "",
       "teardown": "",
       "type": "doctest"
      }
     ]
    }
   }
  },
  "varInspector": {
   "cols": {
    "lenName": 16,
    "lenType": 16,
    "lenVar": 40
   },
   "kernels_config": {
    "python": {
     "delete_cmd_postfix": "",
     "delete_cmd_prefix": "del ",
     "library": "var_list.py",
     "varRefreshCmd": "print(var_dic_list())"
    },
    "r": {
     "delete_cmd_postfix": ") ",
     "delete_cmd_prefix": "rm(",
     "library": "var_list.r",
     "varRefreshCmd": "cat(var_dic_list()) "
    }
   },
   "types_to_exclude": [
    "module",
    "function",
    "builtin_function_or_method",
    "instance",
    "_Feature"
   ],
   "window_display": false
  }
 },
 "nbformat": 4,
 "nbformat_minor": 4
}
