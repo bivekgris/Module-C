{
 "cells": [
  {
   "cell_type": "code",
   "execution_count": 3,
   "id": "c756bc66",
   "metadata": {},
   "outputs": [
    {
     "name": "stdout",
     "output_type": "stream",
     "text": [
      "version: 1.0, encoding: UTF-8\n",
      "eye color: black, width: 6\n",
      "eye color: black, width: 6\n"
     ]
    }
   ],
   "source": [
    "from xml.dom.minidom import parse\n",
    "\n",
    "with open('face.svg') as file:\n",
    "    document=parse(file)\n",
    "    \n",
    "print(f'version: {document.version}, encoding: {document.encoding}')\n",
    "\n",
    "ellipse_elements=document.getElementsByTagName(\"ellipse\")\n",
    "for eye in ellipse_elements:\n",
    "    color=eye.getAttribute('fill')\n",
    "    width=eye.getAttribute('rx')\n",
    "    print(f'eye color: {color}, width: {width}')\n",
    "    "
   ]
  },
  {
   "cell_type": "markdown",
   "id": "2b6eabba",
   "metadata": {},
   "source": [
    "## Modifying DOM"
   ]
  },
  {
   "cell_type": "code",
   "execution_count": 4,
   "id": "cb8cc64c",
   "metadata": {},
   "outputs": [
    {
     "name": "stdout",
     "output_type": "stream",
     "text": [
      "version: 1.0, encoding: UTF-8\n",
      "eye color: black, width: 6, height: 8\n",
      "eye color: black, width: 6, height: 8\n"
     ]
    }
   ],
   "source": [
    "from xml.dom.minidom import parse\n",
    "\n",
    "with open('face.svg') as file:\n",
    "    document=parse(file)\n",
    "    \n",
    "print(f'version: {document.version}, encoding: {document.encoding}')\n",
    "\n",
    "ellipse_elements=document.getElementsByTagName(\"ellipse\")\n",
    "for eye in ellipse_elements:\n",
    "    color=eye.getAttribute('fill')\n",
    "    width=eye.getAttribute('rx')\n",
    "    height=eye.getAttribute('ry')\n",
    "    print(f'eye color: {color}, width: {width}, height: {height}')\n",
    "\n",
    "for eye in ellipse_elements:\n",
    "    eye.setAttribute('fill','red')\n",
    "    eye.setAttribute('rx','10')\n",
    "    eye.setAttribute('ry','10')\n",
    "\n",
    "with open('redeye_modified.svg','w') as out_file:\n",
    "    document.writexml(out_file,indent=' ', addindent=' ', newl='\\n')"
   ]
  },
  {
   "cell_type": "code",
   "execution_count": null,
   "id": "dd08ea61",
   "metadata": {},
   "outputs": [],
   "source": [
    "## Practice"
   ]
  }
 ],
 "metadata": {
  "kernelspec": {
   "display_name": "Python 3 (ipykernel)",
   "language": "python",
   "name": "python3"
  },
  "language_info": {
   "codemirror_mode": {
    "name": "ipython",
    "version": 3
   },
   "file_extension": ".py",
   "mimetype": "text/x-python",
   "name": "python",
   "nbconvert_exporter": "python",
   "pygments_lexer": "ipython3",
   "version": "3.9.12"
  }
 },
 "nbformat": 4,
 "nbformat_minor": 5
}
